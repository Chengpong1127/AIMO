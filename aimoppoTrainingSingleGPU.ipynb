{
 "cells": [
  {
   "cell_type": "code",
   "execution_count": null,
   "metadata": {},
   "outputs": [],
   "source": [
    "!rm -rf models/checkpoints"
   ]
  },
  {
   "cell_type": "code",
   "execution_count": null,
   "metadata": {},
   "outputs": [],
   "source": [
    "from aimoppo import AIMOPPOTrainer\n",
    "from datasets import load_dataset, Dataset\n",
    "\n",
    "dataset = load_dataset(\"gsm8k\", \"main\")\n",
    "dataset = dataset.rename_columns({\"question\": \"query\"})\n",
    "dataset = dataset.map(lambda x: {\"answer\": x[\"answer\"].split(\"#### \")[1]})\n",
    "train_dataset = dataset[\"train\"]\n",
    "val_dataset = Dataset.from_csv(\"data/val.csv\")\n",
    "val_dataset = val_dataset.rename_column(\"problem\", \"query\")\n",
    "val_dataset = val_dataset.remove_columns([\"id\"])\n",
    "\n",
    "train_dataset = train_dataset.map(lambda x: {\"answer\": x[\"answer\"].replace(\",\", \"\")})\n",
    "\n",
    "train_dataset = train_dataset.shuffle()\n",
    "val_dataset = val_dataset.shuffle()\n",
    "\n",
    "\n",
    "trainer = AIMOPPOTrainer(\n",
    "    \"configs/costar_cot_1shot.yaml\",\n",
    "    train_dataset,\n",
    "    val_dataset,\n",
    ")\n"
   ]
  },
  {
   "cell_type": "code",
   "execution_count": null,
   "metadata": {},
   "outputs": [],
   "source": [
    "trainer.train()"
   ]
  }
 ],
 "metadata": {
  "kernelspec": {
   "display_name": "Python 3 (ipykernel)",
   "language": "python",
   "name": "python3"
  },
  "language_info": {
   "codemirror_mode": {
    "name": "ipython",
    "version": 3
   },
   "file_extension": ".py",
   "mimetype": "text/x-python",
   "name": "python",
   "nbconvert_exporter": "python",
   "pygments_lexer": "ipython3",
   "version": "3.10.12"
  }
 },
 "nbformat": 4,
 "nbformat_minor": 2
}
