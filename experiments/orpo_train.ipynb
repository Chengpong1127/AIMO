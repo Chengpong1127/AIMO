{
 "cells": [
  {
   "cell_type": "code",
   "execution_count": 1,
   "metadata": {},
   "outputs": [
    {
     "data": {
      "text/plain": [
       "True"
      ]
     },
     "execution_count": 1,
     "metadata": {},
     "output_type": "execute_result"
    }
   ],
   "source": [
    "import dotenv\n",
    "dotenv.load_dotenv()"
   ]
  },
  {
   "cell_type": "code",
   "execution_count": 2,
   "metadata": {},
   "outputs": [
    {
     "name": "stdout",
     "output_type": "stream",
     "text": [
      "[2024-06-13 07:17:58,005] [INFO] [real_accelerator.py:203:get_accelerator] Setting ds_accelerator to cuda (auto detect)\n",
      "\u001b[93m [WARNING] \u001b[0m async_io requires the dev libaio .so object and headers but these were not found.\n",
      "\u001b[93m [WARNING] \u001b[0m async_io: please install the libaio-dev package with apt\n",
      "\u001b[93m [WARNING] \u001b[0m If libaio is already installed (perhaps from source), try setting the CFLAGS and LDFLAGS environment variables to where it can be found.\n",
      "\u001b[93m [WARNING] \u001b[0m Please specify the CUTLASS repo directory as environment variable $CUTLASS_PATH\n",
      "\u001b[93m [WARNING] \u001b[0m sparse_attn requires a torch version >= 1.5 and < 2.0 but detected 2.2\n",
      "\u001b[93m [WARNING] \u001b[0m using untested triton version (2.1.0), only 1.0.0 is known to be compatible\n"
     ]
    },
    {
     "name": "stderr",
     "output_type": "stream",
     "text": [
      "/usr/bin/ld: cannot find -laio: No such file or directory\n",
      "collect2: error: ld returned 1 exit status\n"
     ]
    }
   ],
   "source": [
    "import yaml\n",
    "from datasets import Dataset\n",
    "from trl import ORPOConfig, ORPOTrainer\n",
    "from transformers import AutoModelForCausalLM, AutoTokenizer, BitsAndBytesConfig\n",
    "from peft import LoraConfig"
   ]
  },
  {
   "cell_type": "code",
   "execution_count": 3,
   "metadata": {},
   "outputs": [],
   "source": [
    "model_name = 'meta-llama/Meta-Llama-3-8B-Instruct'\n",
    "checkpoint = yaml.safe_load(open('checkpoint.yaml'))\n",
    "dataset = Dataset.from_dict(\n",
    "    {\n",
    "        'prompt': checkpoint['prompts'],\n",
    "        'chosen': checkpoint['chosen'],\n",
    "        'rejected': checkpoint['rejected'],\n",
    "    }\n",
    ")"
   ]
  },
  {
   "cell_type": "code",
   "execution_count": 4,
   "metadata": {},
   "outputs": [
    {
     "name": "stderr",
     "output_type": "stream",
     "text": [
      "/usr/local/lib/python3.10/dist-packages/huggingface_hub/file_download.py:1132: FutureWarning: `resume_download` is deprecated and will be removed in version 1.0.0. Downloads always resume when possible. If you want to force a new download, use `force_download=True`.\n",
      "  warnings.warn(\n"
     ]
    },
    {
     "name": "stderr",
     "output_type": "stream",
     "text": [
      "`low_cpu_mem_usage` was None, now set to True since model is quantized.\n"
     ]
    },
    {
     "data": {
      "application/vnd.jupyter.widget-view+json": {
       "model_id": "19ac55bcf1ce45c3bd4d4388b4f3e5a3",
       "version_major": 2,
       "version_minor": 0
      },
      "text/plain": [
       "Loading checkpoint shards:   0%|          | 0/4 [00:00<?, ?it/s]"
      ]
     },
     "metadata": {},
     "output_type": "display_data"
    },
    {
     "name": "stderr",
     "output_type": "stream",
     "text": [
      "Special tokens have been added in the vocabulary, make sure the associated word embeddings are fine-tuned or trained.\n"
     ]
    }
   ],
   "source": [
    "peft_config = LoraConfig(\n",
    "    r=16,\n",
    "    lora_alpha=32,\n",
    "    lora_dropout=0.05,\n",
    "    bias=\"none\",\n",
    "    task_type=\"CAUSAL_LM\",\n",
    ")\n",
    "\n",
    "quantization_config = BitsAndBytesConfig(\n",
    "    load_in_4bit=True,\n",
    "    bnb_4bit_quant_type=\"nf4\",\n",
    "    bnb_4bit_use_double_quant=True,\n",
    "    bnb_4bit_compute_dtype='bfloat16',\n",
    ") \n",
    "\n",
    "model = AutoModelForCausalLM.from_pretrained(model_name, quantization_config=quantization_config)\n",
    "tokenizer = AutoTokenizer.from_pretrained(model_name)\n",
    "\n",
    "if tokenizer.pad_token is None:\n",
    "    tokenizer.pad_token = tokenizer.eos_token\n",
    "\n",
    "split = dataset.train_test_split(test_size=0.1)\n",
    "train_dataset = split['train']\n",
    "test_dataset = split['test']\n"
   ]
  },
  {
   "cell_type": "code",
   "execution_count": 5,
   "metadata": {},
   "outputs": [
    {
     "name": "stderr",
     "output_type": "stream",
     "text": [
      "/usr/local/lib/python3.10/dist-packages/trl/trainer/orpo_trainer.py:209: UserWarning: `max_length` is not set in the ORPOConfig's init it will default to `512` by default, but you should do it yourself in the future.\n",
      "  warnings.warn(\n",
      "/usr/local/lib/python3.10/dist-packages/trl/trainer/orpo_trainer.py:218: UserWarning: `max_prompt_length` is not set in the ORPOConfig's init it will default to `128` by default, but you should do it yourself in the future.\n",
      "  warnings.warn(\n",
      "/usr/local/lib/python3.10/dist-packages/trl/trainer/orpo_trainer.py:247: UserWarning: When using DPODataCollatorWithPadding, you should set `remove_unused_columns=False` in your TrainingArguments we have set it for you, but you should do it yourself in the future.\n",
      "  warnings.warn(\n"
     ]
    },
    {
     "data": {
      "application/vnd.jupyter.widget-view+json": {
       "model_id": "36bef56ea15d425aa5786549233209d1",
       "version_major": 2,
       "version_minor": 0
      },
      "text/plain": [
       "Map:   0%|          | 0/527 [00:00<?, ? examples/s]"
      ]
     },
     "metadata": {},
     "output_type": "display_data"
    },
    {
     "data": {
      "application/vnd.jupyter.widget-view+json": {
       "model_id": "19680adfa5b04c889a9a757a38a2c3a0",
       "version_major": 2,
       "version_minor": 0
      },
      "text/plain": [
       "Map:   0%|          | 0/59 [00:00<?, ? examples/s]"
      ]
     },
     "metadata": {},
     "output_type": "display_data"
    },
    {
     "name": "stderr",
     "output_type": "stream",
     "text": [
      "/usr/local/lib/python3.10/dist-packages/accelerate/accelerator.py:446: FutureWarning: Passing the following arguments to `Accelerator` is deprecated and will be removed in version 1.0 of Accelerate: dict_keys(['dispatch_batches', 'split_batches', 'even_batches', 'use_seedable_sampler']). Please pass an `accelerate.DataLoaderConfiguration` instead: \n",
      "dataloader_config = DataLoaderConfiguration(dispatch_batches=None, split_batches=False, even_batches=True, use_seedable_sampler=True)\n",
      "  warnings.warn(\n"
     ]
    }
   ],
   "source": [
    "trainer = ORPOTrainer(\n",
    "    model,\n",
    "    args=ORPOConfig(\n",
    "        output_dir='output',\n",
    "        per_device_train_batch_size=1,\n",
    "        per_device_eval_batch_size=1,\n",
    "        bf16=True,\n",
    "        gradient_accumulation_steps=4, \n",
    "        do_eval=True,\n",
    "        logging_strategy='steps',\n",
    "        save_strategy='steps',\n",
    "        evaluation_strategy='steps',\n",
    "        logging_steps=100,\n",
    "        save_steps=100,\n",
    "        eval_steps=100,\n",
    "        num_train_epochs=20,\n",
    "        load_best_model_at_end=True,\n",
    "        warmup_steps=200,\n",
    "        save_total_limit=5,\n",
    "    ),\n",
    "    train_dataset=train_dataset,\n",
    "    eval_dataset=test_dataset,\n",
    "    tokenizer=tokenizer,\n",
    "    peft_config=peft_config,\n",
    ")"
   ]
  },
  {
   "cell_type": "code",
   "execution_count": 6,
   "metadata": {},
   "outputs": [
    {
     "name": "stderr",
     "output_type": "stream",
     "text": [
      "\u001b[34m\u001b[1mwandb\u001b[0m: Currently logged in as: \u001b[33mchengpong1127\u001b[0m. Use \u001b[1m`wandb login --relogin`\u001b[0m to force relogin\n"
     ]
    },
    {
     "data": {
      "text/html": [
       "wandb version 0.17.1 is available!  To upgrade, please run:\n",
       " $ pip install wandb --upgrade"
      ],
      "text/plain": [
       "<IPython.core.display.HTML object>"
      ]
     },
     "metadata": {},
     "output_type": "display_data"
    },
    {
     "data": {
      "text/html": [
       "Tracking run with wandb version 0.17.0"
      ],
      "text/plain": [
       "<IPython.core.display.HTML object>"
      ]
     },
     "metadata": {},
     "output_type": "display_data"
    },
    {
     "data": {
      "text/html": [
       "Run data is saved locally in <code>/home/user/AIMO/wandb/run-20240613_071811-ykbq9kno</code>"
      ],
      "text/plain": [
       "<IPython.core.display.HTML object>"
      ]
     },
     "metadata": {},
     "output_type": "display_data"
    },
    {
     "data": {
      "text/html": [
       "Syncing run <strong><a href='https://wandb.ai/chengpong1127/huggingface/runs/ykbq9kno' target=\"_blank\">bumbling-thunder-81</a></strong> to <a href='https://wandb.ai/chengpong1127/huggingface' target=\"_blank\">Weights & Biases</a> (<a href='https://wandb.me/run' target=\"_blank\">docs</a>)<br/>"
      ],
      "text/plain": [
       "<IPython.core.display.HTML object>"
      ]
     },
     "metadata": {},
     "output_type": "display_data"
    },
    {
     "data": {
      "text/html": [
       " View project at <a href='https://wandb.ai/chengpong1127/huggingface' target=\"_blank\">https://wandb.ai/chengpong1127/huggingface</a>"
      ],
      "text/plain": [
       "<IPython.core.display.HTML object>"
      ]
     },
     "metadata": {},
     "output_type": "display_data"
    },
    {
     "data": {
      "text/html": [
       " View run at <a href='https://wandb.ai/chengpong1127/huggingface/runs/ykbq9kno' target=\"_blank\">https://wandb.ai/chengpong1127/huggingface/runs/ykbq9kno</a>"
      ],
      "text/plain": [
       "<IPython.core.display.HTML object>"
      ]
     },
     "metadata": {},
     "output_type": "display_data"
    },
    {
     "name": "stderr",
     "output_type": "stream",
     "text": [
      "Could not estimate the number of tokens of the input, floating-point operations will not be computed\n"
     ]
    },
    {
     "data": {
      "text/html": [
       "\n",
       "    <div>\n",
       "      \n",
       "      <progress value='2620' max='2620' style='width:300px; height:20px; vertical-align: middle;'></progress>\n",
       "      [2620/2620 1:31:45, Epoch 19/20]\n",
       "    </div>\n",
       "    <table border=\"1\" class=\"dataframe\">\n",
       "  <thead>\n",
       " <tr style=\"text-align: left;\">\n",
       "      <th>Step</th>\n",
       "      <th>Training Loss</th>\n",
       "      <th>Validation Loss</th>\n",
       "      <th>Runtime</th>\n",
       "      <th>Samples Per Second</th>\n",
       "      <th>Steps Per Second</th>\n",
       "      <th>Rewards/chosen</th>\n",
       "      <th>Rewards/rejected</th>\n",
       "      <th>Rewards/accuracies</th>\n",
       "      <th>Rewards/margins</th>\n",
       "      <th>Logps/rejected</th>\n",
       "      <th>Logps/chosen</th>\n",
       "      <th>Logits/rejected</th>\n",
       "      <th>Logits/chosen</th>\n",
       "      <th>Nll Loss</th>\n",
       "      <th>Log Odds Ratio</th>\n",
       "      <th>Log Odds Chosen</th>\n",
       "    </tr>\n",
       "  </thead>\n",
       "  <tbody>\n",
       "    <tr>\n",
       "      <td>1200</td>\n",
       "      <td>0.284200</td>\n",
       "      <td>0.280690</td>\n",
       "      <td>23.097300</td>\n",
       "      <td>2.554000</td>\n",
       "      <td>2.554000</td>\n",
       "      <td>-0.016589</td>\n",
       "      <td>-0.098726</td>\n",
       "      <td>0.983051</td>\n",
       "      <td>0.082137</td>\n",
       "      <td>-0.987261</td>\n",
       "      <td>-0.165889</td>\n",
       "      <td>-0.308538</td>\n",
       "      <td>-0.343859</td>\n",
       "      <td>0.262654</td>\n",
       "      <td>-0.180362</td>\n",
       "      <td>2.147190</td>\n",
       "    </tr>\n",
       "    <tr>\n",
       "      <td>1300</td>\n",
       "      <td>0.278800</td>\n",
       "      <td>0.285220</td>\n",
       "      <td>23.118700</td>\n",
       "      <td>2.552000</td>\n",
       "      <td>2.552000</td>\n",
       "      <td>-0.016907</td>\n",
       "      <td>-0.089069</td>\n",
       "      <td>0.966102</td>\n",
       "      <td>0.072163</td>\n",
       "      <td>-0.890692</td>\n",
       "      <td>-0.169066</td>\n",
       "      <td>-0.292132</td>\n",
       "      <td>-0.318193</td>\n",
       "      <td>0.265239</td>\n",
       "      <td>-0.199803</td>\n",
       "      <td>1.966217</td>\n",
       "    </tr>\n",
       "    <tr>\n",
       "      <td>1400</td>\n",
       "      <td>0.267300</td>\n",
       "      <td>0.290005</td>\n",
       "      <td>23.123300</td>\n",
       "      <td>2.552000</td>\n",
       "      <td>2.552000</td>\n",
       "      <td>-0.017717</td>\n",
       "      <td>-0.095505</td>\n",
       "      <td>0.983051</td>\n",
       "      <td>0.077788</td>\n",
       "      <td>-0.955050</td>\n",
       "      <td>-0.177170</td>\n",
       "      <td>-0.273756</td>\n",
       "      <td>-0.300963</td>\n",
       "      <td>0.270865</td>\n",
       "      <td>-0.191395</td>\n",
       "      <td>2.029297</td>\n",
       "    </tr>\n",
       "    <tr>\n",
       "      <td>1500</td>\n",
       "      <td>0.249900</td>\n",
       "      <td>0.300776</td>\n",
       "      <td>23.092600</td>\n",
       "      <td>2.555000</td>\n",
       "      <td>2.555000</td>\n",
       "      <td>-0.019428</td>\n",
       "      <td>-0.116296</td>\n",
       "      <td>0.983051</td>\n",
       "      <td>0.096867</td>\n",
       "      <td>-1.162957</td>\n",
       "      <td>-0.194284</td>\n",
       "      <td>-0.179433</td>\n",
       "      <td>-0.213447</td>\n",
       "      <td>0.283212</td>\n",
       "      <td>-0.175643</td>\n",
       "      <td>2.252518</td>\n",
       "    </tr>\n",
       "    <tr>\n",
       "      <td>1600</td>\n",
       "      <td>0.242400</td>\n",
       "      <td>0.298101</td>\n",
       "      <td>23.097100</td>\n",
       "      <td>2.554000</td>\n",
       "      <td>2.554000</td>\n",
       "      <td>-0.019044</td>\n",
       "      <td>-0.107715</td>\n",
       "      <td>0.983051</td>\n",
       "      <td>0.088671</td>\n",
       "      <td>-1.077147</td>\n",
       "      <td>-0.190436</td>\n",
       "      <td>-0.173548</td>\n",
       "      <td>-0.202134</td>\n",
       "      <td>0.280083</td>\n",
       "      <td>-0.180183</td>\n",
       "      <td>2.146074</td>\n",
       "    </tr>\n",
       "    <tr>\n",
       "      <td>1700</td>\n",
       "      <td>0.233300</td>\n",
       "      <td>0.301625</td>\n",
       "      <td>23.101800</td>\n",
       "      <td>2.554000</td>\n",
       "      <td>2.554000</td>\n",
       "      <td>-0.019611</td>\n",
       "      <td>-0.111250</td>\n",
       "      <td>0.966102</td>\n",
       "      <td>0.091639</td>\n",
       "      <td>-1.112502</td>\n",
       "      <td>-0.196111</td>\n",
       "      <td>-0.249981</td>\n",
       "      <td>-0.275198</td>\n",
       "      <td>0.283518</td>\n",
       "      <td>-0.181074</td>\n",
       "      <td>2.161021</td>\n",
       "    </tr>\n",
       "    <tr>\n",
       "      <td>1800</td>\n",
       "      <td>0.220200</td>\n",
       "      <td>0.310014</td>\n",
       "      <td>23.100800</td>\n",
       "      <td>2.554000</td>\n",
       "      <td>2.554000</td>\n",
       "      <td>-0.020884</td>\n",
       "      <td>-0.116072</td>\n",
       "      <td>0.983051</td>\n",
       "      <td>0.095187</td>\n",
       "      <td>-1.160717</td>\n",
       "      <td>-0.208843</td>\n",
       "      <td>-0.198951</td>\n",
       "      <td>-0.223798</td>\n",
       "      <td>0.291944</td>\n",
       "      <td>-0.180706</td>\n",
       "      <td>2.175074</td>\n",
       "    </tr>\n",
       "    <tr>\n",
       "      <td>1900</td>\n",
       "      <td>0.217000</td>\n",
       "      <td>0.326581</td>\n",
       "      <td>23.101500</td>\n",
       "      <td>2.554000</td>\n",
       "      <td>2.554000</td>\n",
       "      <td>-0.023154</td>\n",
       "      <td>-0.130298</td>\n",
       "      <td>0.983051</td>\n",
       "      <td>0.107144</td>\n",
       "      <td>-1.302979</td>\n",
       "      <td>-0.231538</td>\n",
       "      <td>-0.143435</td>\n",
       "      <td>-0.171370</td>\n",
       "      <td>0.309287</td>\n",
       "      <td>-0.172937</td>\n",
       "      <td>2.268288</td>\n",
       "    </tr>\n",
       "    <tr>\n",
       "      <td>2000</td>\n",
       "      <td>0.205300</td>\n",
       "      <td>0.330561</td>\n",
       "      <td>23.110500</td>\n",
       "      <td>2.553000</td>\n",
       "      <td>2.553000</td>\n",
       "      <td>-0.023641</td>\n",
       "      <td>-0.134092</td>\n",
       "      <td>0.983051</td>\n",
       "      <td>0.110451</td>\n",
       "      <td>-1.340919</td>\n",
       "      <td>-0.236407</td>\n",
       "      <td>-0.098936</td>\n",
       "      <td>-0.131528</td>\n",
       "      <td>0.313374</td>\n",
       "      <td>-0.171874</td>\n",
       "      <td>2.287750</td>\n",
       "    </tr>\n",
       "    <tr>\n",
       "      <td>2100</td>\n",
       "      <td>0.205100</td>\n",
       "      <td>0.324802</td>\n",
       "      <td>23.111600</td>\n",
       "      <td>2.553000</td>\n",
       "      <td>2.553000</td>\n",
       "      <td>-0.023151</td>\n",
       "      <td>-0.129672</td>\n",
       "      <td>0.983051</td>\n",
       "      <td>0.106520</td>\n",
       "      <td>-1.296716</td>\n",
       "      <td>-0.231514</td>\n",
       "      <td>-0.137265</td>\n",
       "      <td>-0.162443</td>\n",
       "      <td>0.307271</td>\n",
       "      <td>-0.175313</td>\n",
       "      <td>2.246511</td>\n",
       "    </tr>\n",
       "    <tr>\n",
       "      <td>2200</td>\n",
       "      <td>0.192000</td>\n",
       "      <td>0.341650</td>\n",
       "      <td>23.106600</td>\n",
       "      <td>2.553000</td>\n",
       "      <td>2.553000</td>\n",
       "      <td>-0.025187</td>\n",
       "      <td>-0.136814</td>\n",
       "      <td>0.983051</td>\n",
       "      <td>0.111627</td>\n",
       "      <td>-1.368137</td>\n",
       "      <td>-0.251865</td>\n",
       "      <td>-0.121198</td>\n",
       "      <td>-0.143874</td>\n",
       "      <td>0.324134</td>\n",
       "      <td>-0.175164</td>\n",
       "      <td>2.267144</td>\n",
       "    </tr>\n",
       "    <tr>\n",
       "      <td>2300</td>\n",
       "      <td>0.194200</td>\n",
       "      <td>0.349737</td>\n",
       "      <td>23.127100</td>\n",
       "      <td>2.551000</td>\n",
       "      <td>2.551000</td>\n",
       "      <td>-0.026378</td>\n",
       "      <td>-0.145362</td>\n",
       "      <td>0.983051</td>\n",
       "      <td>0.118984</td>\n",
       "      <td>-1.453620</td>\n",
       "      <td>-0.263783</td>\n",
       "      <td>-0.107731</td>\n",
       "      <td>-0.129395</td>\n",
       "      <td>0.332595</td>\n",
       "      <td>-0.171423</td>\n",
       "      <td>2.321635</td>\n",
       "    </tr>\n",
       "    <tr>\n",
       "      <td>2400</td>\n",
       "      <td>0.177300</td>\n",
       "      <td>0.356837</td>\n",
       "      <td>23.808100</td>\n",
       "      <td>2.478000</td>\n",
       "      <td>2.478000</td>\n",
       "      <td>-0.027454</td>\n",
       "      <td>-0.147855</td>\n",
       "      <td>0.983051</td>\n",
       "      <td>0.120400</td>\n",
       "      <td>-1.478546</td>\n",
       "      <td>-0.274543</td>\n",
       "      <td>-0.068192</td>\n",
       "      <td>-0.092726</td>\n",
       "      <td>0.339426</td>\n",
       "      <td>-0.174111</td>\n",
       "      <td>2.313964</td>\n",
       "    </tr>\n",
       "    <tr>\n",
       "      <td>2500</td>\n",
       "      <td>0.186200</td>\n",
       "      <td>0.358478</td>\n",
       "      <td>24.013000</td>\n",
       "      <td>2.457000</td>\n",
       "      <td>2.457000</td>\n",
       "      <td>-0.027683</td>\n",
       "      <td>-0.149208</td>\n",
       "      <td>0.983051</td>\n",
       "      <td>0.121525</td>\n",
       "      <td>-1.492082</td>\n",
       "      <td>-0.276832</td>\n",
       "      <td>-0.086642</td>\n",
       "      <td>-0.110589</td>\n",
       "      <td>0.340944</td>\n",
       "      <td>-0.175341</td>\n",
       "      <td>2.313000</td>\n",
       "    </tr>\n",
       "    <tr>\n",
       "      <td>2600</td>\n",
       "      <td>0.176300</td>\n",
       "      <td>0.364756</td>\n",
       "      <td>24.051600</td>\n",
       "      <td>2.453000</td>\n",
       "      <td>2.453000</td>\n",
       "      <td>-0.028535</td>\n",
       "      <td>-0.152283</td>\n",
       "      <td>0.983051</td>\n",
       "      <td>0.123749</td>\n",
       "      <td>-1.522835</td>\n",
       "      <td>-0.285348</td>\n",
       "      <td>-0.077314</td>\n",
       "      <td>-0.101252</td>\n",
       "      <td>0.347160</td>\n",
       "      <td>-0.175951</td>\n",
       "      <td>2.320130</td>\n",
       "    </tr>\n",
       "  </tbody>\n",
       "</table><p>"
      ],
      "text/plain": [
       "<IPython.core.display.HTML object>"
      ]
     },
     "metadata": {},
     "output_type": "display_data"
    },
    {
     "name": "stderr",
     "output_type": "stream",
     "text": [
      "/usr/local/lib/python3.10/dist-packages/peft/utils/other.py:611: UserWarning: Unable to fetch remote file due to the following error 401 Client Error. (Request ID: Root=1-666a9e9b-5d38c64b0ba0a8857a304db4;173abc8d-76ee-470a-bdc7-c3f033a5d714)\n",
      "\n",
      "Cannot access gated repo for url https://huggingface.co/meta-llama/Meta-Llama-3-8B-Instruct/resolve/main/config.json.\n",
      "Access to model meta-llama/Meta-Llama-3-8B-Instruct is restricted. You must be authenticated to access it. - silently ignoring the lookup for the file config.json in meta-llama/Meta-Llama-3-8B-Instruct.\n",
      "  warnings.warn(\n",
      "/usr/local/lib/python3.10/dist-packages/peft/utils/save_and_load.py:195: UserWarning: Could not find a config file in meta-llama/Meta-Llama-3-8B-Instruct - will assume that the vocabulary was not modified.\n",
      "  warnings.warn(\n",
      "/usr/local/lib/python3.10/dist-packages/peft/utils/other.py:611: UserWarning: Unable to fetch remote file due to the following error 401 Client Error. (Request ID: Root=1-666aa004-12b4e4aa6a6372781ce1658c;a6ebf61d-d14c-41b8-8805-6ae0067e033c)\n",
      "\n",
      "Cannot access gated repo for url https://huggingface.co/meta-llama/Meta-Llama-3-8B-Instruct/resolve/main/config.json.\n",
      "Access to model meta-llama/Meta-Llama-3-8B-Instruct is restricted. You must be authenticated to access it. - silently ignoring the lookup for the file config.json in meta-llama/Meta-Llama-3-8B-Instruct.\n",
      "  warnings.warn(\n",
      "/usr/local/lib/python3.10/dist-packages/peft/utils/save_and_load.py:195: UserWarning: Could not find a config file in meta-llama/Meta-Llama-3-8B-Instruct - will assume that the vocabulary was not modified.\n",
      "  warnings.warn(\n",
      "/usr/local/lib/python3.10/dist-packages/peft/utils/other.py:611: UserWarning: Unable to fetch remote file due to the following error 401 Client Error. (Request ID: Root=1-666aa16e-0fc252293688e1580b47e9de;7783117d-94f1-4171-8632-27c33ae6a9a9)\n",
      "\n",
      "Cannot access gated repo for url https://huggingface.co/meta-llama/Meta-Llama-3-8B-Instruct/resolve/main/config.json.\n",
      "Access to model meta-llama/Meta-Llama-3-8B-Instruct is restricted. You must be authenticated to access it. - silently ignoring the lookup for the file config.json in meta-llama/Meta-Llama-3-8B-Instruct.\n",
      "  warnings.warn(\n",
      "/usr/local/lib/python3.10/dist-packages/peft/utils/save_and_load.py:195: UserWarning: Could not find a config file in meta-llama/Meta-Llama-3-8B-Instruct - will assume that the vocabulary was not modified.\n",
      "  warnings.warn(\n",
      "/usr/local/lib/python3.10/dist-packages/peft/utils/other.py:611: UserWarning: Unable to fetch remote file due to the following error 401 Client Error. (Request ID: Root=1-666aa2d7-077cac9161a8ecd9345decd0;a2fb991b-8136-4993-9d91-d05323ae50bc)\n",
      "\n",
      "Cannot access gated repo for url https://huggingface.co/meta-llama/Meta-Llama-3-8B-Instruct/resolve/main/config.json.\n",
      "Access to model meta-llama/Meta-Llama-3-8B-Instruct is restricted. You must be authenticated to access it. - silently ignoring the lookup for the file config.json in meta-llama/Meta-Llama-3-8B-Instruct.\n",
      "  warnings.warn(\n",
      "/usr/local/lib/python3.10/dist-packages/peft/utils/save_and_load.py:195: UserWarning: Could not find a config file in meta-llama/Meta-Llama-3-8B-Instruct - will assume that the vocabulary was not modified.\n",
      "  warnings.warn(\n",
      "/usr/local/lib/python3.10/dist-packages/peft/utils/other.py:611: UserWarning: Unable to fetch remote file due to the following error 401 Client Error. (Request ID: Root=1-666aa43d-0b3e815213e464cb17caef5a;6d2ea370-296e-449b-bf87-af6115fdb8cb)\n",
      "\n",
      "Cannot access gated repo for url https://huggingface.co/meta-llama/Meta-Llama-3-8B-Instruct/resolve/main/config.json.\n",
      "Access to model meta-llama/Meta-Llama-3-8B-Instruct is restricted. You must be authenticated to access it. - silently ignoring the lookup for the file config.json in meta-llama/Meta-Llama-3-8B-Instruct.\n",
      "  warnings.warn(\n",
      "/usr/local/lib/python3.10/dist-packages/peft/utils/save_and_load.py:195: UserWarning: Could not find a config file in meta-llama/Meta-Llama-3-8B-Instruct - will assume that the vocabulary was not modified.\n",
      "  warnings.warn(\n",
      "/usr/local/lib/python3.10/dist-packages/peft/utils/other.py:611: UserWarning: Unable to fetch remote file due to the following error 401 Client Error. (Request ID: Root=1-666aa5a6-2d9759f62cd47462171082a7;9338f93c-2f31-4a40-a7f1-5b7d19d30983)\n",
      "\n",
      "Cannot access gated repo for url https://huggingface.co/meta-llama/Meta-Llama-3-8B-Instruct/resolve/main/config.json.\n",
      "Access to model meta-llama/Meta-Llama-3-8B-Instruct is restricted. You must be authenticated to access it. - silently ignoring the lookup for the file config.json in meta-llama/Meta-Llama-3-8B-Instruct.\n",
      "  warnings.warn(\n",
      "/usr/local/lib/python3.10/dist-packages/peft/utils/save_and_load.py:195: UserWarning: Could not find a config file in meta-llama/Meta-Llama-3-8B-Instruct - will assume that the vocabulary was not modified.\n",
      "  warnings.warn(\n",
      "/usr/local/lib/python3.10/dist-packages/peft/utils/other.py:611: UserWarning: Unable to fetch remote file due to the following error 401 Client Error. (Request ID: Root=1-666aa710-74eb99a32c247fe3737495a4;e5fa4e82-912d-435a-81b6-4a795277f59a)\n",
      "\n",
      "Cannot access gated repo for url https://huggingface.co/meta-llama/Meta-Llama-3-8B-Instruct/resolve/main/config.json.\n",
      "Access to model meta-llama/Meta-Llama-3-8B-Instruct is restricted. You must be authenticated to access it. - silently ignoring the lookup for the file config.json in meta-llama/Meta-Llama-3-8B-Instruct.\n",
      "  warnings.warn(\n",
      "/usr/local/lib/python3.10/dist-packages/peft/utils/save_and_load.py:195: UserWarning: Could not find a config file in meta-llama/Meta-Llama-3-8B-Instruct - will assume that the vocabulary was not modified.\n",
      "  warnings.warn(\n",
      "/usr/local/lib/python3.10/dist-packages/peft/utils/other.py:611: UserWarning: Unable to fetch remote file due to the following error 401 Client Error. (Request ID: Root=1-666aa877-1b7f2bab2d0a7ffb4c564796;a8823f9e-c61f-48c1-89b5-47a27aea6bb1)\n",
      "\n",
      "Cannot access gated repo for url https://huggingface.co/meta-llama/Meta-Llama-3-8B-Instruct/resolve/main/config.json.\n",
      "Access to model meta-llama/Meta-Llama-3-8B-Instruct is restricted. You must be authenticated to access it. - silently ignoring the lookup for the file config.json in meta-llama/Meta-Llama-3-8B-Instruct.\n",
      "  warnings.warn(\n",
      "/usr/local/lib/python3.10/dist-packages/peft/utils/save_and_load.py:195: UserWarning: Could not find a config file in meta-llama/Meta-Llama-3-8B-Instruct - will assume that the vocabulary was not modified.\n",
      "  warnings.warn(\n",
      "/usr/local/lib/python3.10/dist-packages/peft/utils/other.py:611: UserWarning: Unable to fetch remote file due to the following error 401 Client Error. (Request ID: Root=1-666aa9e1-17d0d998595192df4d3efb24;1081acb7-7b28-4cf3-bf0d-e06afb540a31)\n",
      "\n",
      "Cannot access gated repo for url https://huggingface.co/meta-llama/Meta-Llama-3-8B-Instruct/resolve/main/config.json.\n",
      "Access to model meta-llama/Meta-Llama-3-8B-Instruct is restricted. You must be authenticated to access it. - silently ignoring the lookup for the file config.json in meta-llama/Meta-Llama-3-8B-Instruct.\n",
      "  warnings.warn(\n",
      "/usr/local/lib/python3.10/dist-packages/peft/utils/save_and_load.py:195: UserWarning: Could not find a config file in meta-llama/Meta-Llama-3-8B-Instruct - will assume that the vocabulary was not modified.\n",
      "  warnings.warn(\n",
      "/usr/local/lib/python3.10/dist-packages/peft/utils/other.py:611: UserWarning: Unable to fetch remote file due to the following error 401 Client Error. (Request ID: Root=1-666aab49-6d41b9f5077463031fd58ce5;518f21ae-3e95-4c2d-8169-2ba99ff48240)\n",
      "\n",
      "Cannot access gated repo for url https://huggingface.co/meta-llama/Meta-Llama-3-8B-Instruct/resolve/main/config.json.\n",
      "Access to model meta-llama/Meta-Llama-3-8B-Instruct is restricted. You must be authenticated to access it. - silently ignoring the lookup for the file config.json in meta-llama/Meta-Llama-3-8B-Instruct.\n",
      "  warnings.warn(\n",
      "/usr/local/lib/python3.10/dist-packages/peft/utils/save_and_load.py:195: UserWarning: Could not find a config file in meta-llama/Meta-Llama-3-8B-Instruct - will assume that the vocabulary was not modified.\n",
      "  warnings.warn(\n",
      "/usr/local/lib/python3.10/dist-packages/peft/utils/other.py:611: UserWarning: Unable to fetch remote file due to the following error 401 Client Error. (Request ID: Root=1-666aacb2-5bd4cb4508d3dd5b175744f3;0e307e30-0f88-4dbf-9d6a-eb73a13c545a)\n",
      "\n",
      "Cannot access gated repo for url https://huggingface.co/meta-llama/Meta-Llama-3-8B-Instruct/resolve/main/config.json.\n",
      "Access to model meta-llama/Meta-Llama-3-8B-Instruct is restricted. You must be authenticated to access it. - silently ignoring the lookup for the file config.json in meta-llama/Meta-Llama-3-8B-Instruct.\n",
      "  warnings.warn(\n",
      "/usr/local/lib/python3.10/dist-packages/peft/utils/save_and_load.py:195: UserWarning: Could not find a config file in meta-llama/Meta-Llama-3-8B-Instruct - will assume that the vocabulary was not modified.\n",
      "  warnings.warn(\n",
      "/usr/local/lib/python3.10/dist-packages/peft/utils/other.py:611: UserWarning: Unable to fetch remote file due to the following error 401 Client Error. (Request ID: Root=1-666aae19-286f2b090e22ec4b43d33acf;ce61b014-4a47-4f3f-913a-f9fa72ce9468)\n",
      "\n",
      "Cannot access gated repo for url https://huggingface.co/meta-llama/Meta-Llama-3-8B-Instruct/resolve/main/config.json.\n",
      "Access to model meta-llama/Meta-Llama-3-8B-Instruct is restricted. You must be authenticated to access it. - silently ignoring the lookup for the file config.json in meta-llama/Meta-Llama-3-8B-Instruct.\n",
      "  warnings.warn(\n",
      "/usr/local/lib/python3.10/dist-packages/peft/utils/save_and_load.py:195: UserWarning: Could not find a config file in meta-llama/Meta-Llama-3-8B-Instruct - will assume that the vocabulary was not modified.\n",
      "  warnings.warn(\n",
      "/usr/local/lib/python3.10/dist-packages/peft/utils/other.py:611: UserWarning: Unable to fetch remote file due to the following error 401 Client Error. (Request ID: Root=1-666aaf87-2b6274952a6651165a89486c;8b3e15aa-f8ad-4762-b580-c6d9984250d3)\n",
      "\n",
      "Cannot access gated repo for url https://huggingface.co/meta-llama/Meta-Llama-3-8B-Instruct/resolve/main/config.json.\n",
      "Access to model meta-llama/Meta-Llama-3-8B-Instruct is restricted. You must be authenticated to access it. - silently ignoring the lookup for the file config.json in meta-llama/Meta-Llama-3-8B-Instruct.\n",
      "  warnings.warn(\n",
      "/usr/local/lib/python3.10/dist-packages/peft/utils/save_and_load.py:195: UserWarning: Could not find a config file in meta-llama/Meta-Llama-3-8B-Instruct - will assume that the vocabulary was not modified.\n",
      "  warnings.warn(\n",
      "/usr/local/lib/python3.10/dist-packages/peft/utils/other.py:611: UserWarning: Unable to fetch remote file due to the following error 401 Client Error. (Request ID: Root=1-666ab0fd-6301e7dc32103e5376e308a6;a588e8a8-2ca9-4d58-9e19-fde83863f1a1)\n",
      "\n",
      "Cannot access gated repo for url https://huggingface.co/meta-llama/Meta-Llama-3-8B-Instruct/resolve/main/config.json.\n",
      "Access to model meta-llama/Meta-Llama-3-8B-Instruct is restricted. You must be authenticated to access it. - silently ignoring the lookup for the file config.json in meta-llama/Meta-Llama-3-8B-Instruct.\n",
      "  warnings.warn(\n",
      "/usr/local/lib/python3.10/dist-packages/peft/utils/save_and_load.py:195: UserWarning: Could not find a config file in meta-llama/Meta-Llama-3-8B-Instruct - will assume that the vocabulary was not modified.\n",
      "  warnings.warn(\n",
      "/usr/local/lib/python3.10/dist-packages/peft/utils/other.py:611: UserWarning: Unable to fetch remote file due to the following error 401 Client Error. (Request ID: Root=1-666ab272-5280c11c160be1de74d56b1b;53284eeb-7ee0-4854-aa94-e535603f7551)\n",
      "\n",
      "Cannot access gated repo for url https://huggingface.co/meta-llama/Meta-Llama-3-8B-Instruct/resolve/main/config.json.\n",
      "Access to model meta-llama/Meta-Llama-3-8B-Instruct is restricted. You must be authenticated to access it. - silently ignoring the lookup for the file config.json in meta-llama/Meta-Llama-3-8B-Instruct.\n",
      "  warnings.warn(\n",
      "/usr/local/lib/python3.10/dist-packages/peft/utils/save_and_load.py:195: UserWarning: Could not find a config file in meta-llama/Meta-Llama-3-8B-Instruct - will assume that the vocabulary was not modified.\n",
      "  warnings.warn(\n"
     ]
    },
    {
     "data": {
      "text/plain": [
       "TrainOutput(global_step=2620, training_loss=0.12843340298601688, metrics={'train_runtime': 5511.8093, 'train_samples_per_second': 1.912, 'train_steps_per_second': 0.475, 'total_flos': 0.0, 'train_loss': 0.12843340298601688, 'epoch': 19.93})"
      ]
     },
     "execution_count": 6,
     "metadata": {},
     "output_type": "execute_result"
    }
   ],
   "source": [
    "trainer.train(resume_from_checkpoint=True)"
   ]
  },
  {
   "cell_type": "code",
   "execution_count": null,
   "metadata": {},
   "outputs": [],
   "source": [
    "trainer.save_model('output')"
   ]
  }
 ],
 "metadata": {
  "kernelspec": {
   "display_name": "Python 3",
   "language": "python",
   "name": "python3"
  },
  "language_info": {
   "codemirror_mode": {
    "name": "ipython",
    "version": 3
   },
   "file_extension": ".py",
   "mimetype": "text/x-python",
   "name": "python",
   "nbconvert_exporter": "python",
   "pygments_lexer": "ipython3",
   "version": "3.10.12"
  }
 },
 "nbformat": 4,
 "nbformat_minor": 2
}
