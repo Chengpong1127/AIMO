{
 "cells": [
  {
   "cell_type": "code",
   "execution_count": null,
   "metadata": {},
   "outputs": [],
   "source": [
    "%cd /home/wrt/chengpong/AIMO"
   ]
  },
  {
   "cell_type": "code",
   "execution_count": null,
   "metadata": {},
   "outputs": [],
   "source": [
    "from aimoppo import AIMOPPOTrainer, TrainerConfig\n",
    "from datasets import load_dataset\n",
    "\n",
    "dataset = load_dataset(\"gsm8k\", \"main\")\n",
    "dataset = dataset.rename_columns({\"question\": \"query\"})\n",
    "dataset = dataset.map(lambda x: {\"answer\": x[\"answer\"].split(\"#### \")[1]})\n",
    "train_dataset = dataset[\"train\"]\n",
    "test_dataset = dataset[\"test\"]\n",
    "\n",
    "train_dataset = train_dataset.select(range(200))\n",
    "test_dataset = test_dataset.select(range(8))\n",
    "\n",
    "\n",
    "\n",
    "config = TrainerConfig(\n",
    "    model_name=\"meta-llama/Meta-Llama-3-8B-Instruct\",\n",
    "    prompt_path=\"/home/wrt/chengpong/AIMO/prompts/simpleCOT.txt\",\n",
    "    save_dir=\"/home/wrt/chengpong/AIMO/models\",\n",
    "    wandb_project_name=\"AIMO\",\n",
    "    \n",
    "    #python: lvwerra/python-interpreter\n",
    "    text_env_tools = [],\n",
    "    epochs=5,\n",
    "    train_batch_size=4,\n",
    "    train_mini_batch_size=1,\n",
    "    val_batch_size=4,\n",
    "    gradient_accumulation_steps=4,\n",
    "    generation_max_new_tokens = 256,\n",
    ")\n",
    "trainer = AIMOPPOTrainer(\n",
    "    config,\n",
    "    train_dataset,\n",
    "    test_dataset\n",
    ")\n"
   ]
  },
  {
   "cell_type": "code",
   "execution_count": null,
   "metadata": {},
   "outputs": [],
   "source": [
    "trainer.train()"
   ]
  }
 ],
 "metadata": {
  "kernelspec": {
   "display_name": "Python 3 (ipykernel)",
   "language": "python",
   "name": "python3"
  },
  "language_info": {
   "codemirror_mode": {
    "name": "ipython",
    "version": 3
   },
   "file_extension": ".py",
   "mimetype": "text/x-python",
   "name": "python",
   "nbconvert_exporter": "python",
   "pygments_lexer": "ipython3",
   "version": "3.9.19"
  }
 },
 "nbformat": 4,
 "nbformat_minor": 2
}
