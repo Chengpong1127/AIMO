{
 "cells": [
  {
   "cell_type": "code",
   "execution_count": null,
   "metadata": {},
   "outputs": [],
   "source": [
    "%cd /home/wrt/chengpong/AIMO"
   ]
  },
  {
   "cell_type": "code",
   "execution_count": null,
   "metadata": {},
   "outputs": [],
   "source": [
    "from aimoppo import AIMOPPOTrainer, TrainerConfig\n",
    "from datasets import load_dataset"
   ]
  },
  {
   "cell_type": "code",
   "execution_count": null,
   "metadata": {},
   "outputs": [],
   "source": [
    "ds = load_dataset(\"gsm8k\", \"main\", split=\"train\")\n",
    "ds = ds.rename_columns({\"question\": \"query\"})\n",
    "ds = ds.map(lambda x: {\"answer\": x[\"answer\"].split(\"#### \")[1]})\n",
    "ds = ds.select(range(20))"
   ]
  },
  {
   "cell_type": "code",
   "execution_count": null,
   "metadata": {},
   "outputs": [],
   "source": [
    "config = TrainerConfig(\n",
    "    model_name=\"meta-llama/Meta-Llama-3-8B-Instruct\",\n",
    "    epochs=1,\n",
    "    train_batch_size=2,\n",
    "    train_mini_batch_size=2,\n",
    "    test_batch_size=2,\n",
    "    gradient_accumulation_steps=1,\n",
    "    save_dir=\"/home/wrt/chengpong/AIMO/models\"\n",
    ")\n",
    "\n",
    "trainer = AIMOPPOTrainer(\n",
    "    config,\n",
    "    ds\n",
    ")"
   ]
  },
  {
   "cell_type": "code",
   "execution_count": null,
   "metadata": {},
   "outputs": [],
   "source": [
    "trainer.train()"
   ]
  },
  {
   "cell_type": "code",
   "execution_count": null,
   "metadata": {},
   "outputs": [],
   "source": [
    "trainer.save_model(\"/home/wrt/chengpong/AIMO/models/\")"
   ]
  }
 ],
 "metadata": {
  "kernelspec": {
   "display_name": "Python 3 (ipykernel)",
   "language": "python",
   "name": "python3"
  }
 },
 "nbformat": 4,
 "nbformat_minor": 2
}
